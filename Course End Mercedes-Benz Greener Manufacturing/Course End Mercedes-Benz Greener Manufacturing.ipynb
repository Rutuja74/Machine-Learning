{
 "cells": [
  {
   "cell_type": "markdown",
   "id": "257440fe",
   "metadata": {},
   "source": [
    "# Mercedes-Benz Greener Manufacturing\n",
    "\n",
    "DESCRIPTION\n",
    "\n",
    "Reduce the time a Mercedes-Benz spends on the test bench.\n",
    "\n",
    "Problem Statement Scenario:\n",
    "Since the first automobile, the Benz Patent Motor Car in 1886, Mercedes-Benz has stood for important automotive innovations. These include the passenger safety cell with a crumple zone, the airbag, and intelligent assistance systems. Mercedes-Benz applies for nearly 2000 patents per year, making the brand the European leader among premium carmakers. Mercedes-Benz is the leader in the premium car industry. With a huge selection of features and options, customers can choose the customized Mercedes-Benz of their dreams.\n",
    "\n",
    "To ensure the safety and reliability of every unique car configuration before they hit the road, the company’s engineers have developed a robust testing system. As one of the world’s biggest manufacturers of premium cars, safety and efficiency are paramount on Mercedes-Benz’s production lines. However, optimizing the speed of their testing system for many possible feature combinations is complex and time-consuming without a powerful algorithmic approach.\n",
    "\n",
    "You are required to reduce the time that cars spend on the test bench. Others will work with a dataset representing different permutations of features in a Mercedes-Benz car to predict the time it takes to pass testing. Optimal algorithms will contribute to faster testing, resulting in lower carbon dioxide emissions without reducing Mercedes-Benz’s standards.\n",
    "\n",
    "Following actions should be performed:\n",
    "\n",
    "If for any column(s), the variance is equal to zero, then you need to remove those variable(s).\n",
    "Check for null and unique values for test and train sets.\n",
    "Apply label encoder.\n",
    "Perform dimensionality reduction.\n",
    "Predict your test_df values using XGBoost."
   ]
  },
  {
   "cell_type": "code",
   "execution_count": 1,
   "id": "afdc513a",
   "metadata": {},
   "outputs": [],
   "source": [
    "import pandas as pd \n",
    "import numpy as np\n",
    "import matplotlib.pyplot as plt \n",
    "import seaborn as sns\n",
    "sns.set()\n",
    "from sklearn.model_selection import train_test_split,KFold\n",
    "from xgboost import XGBRegressor\n",
    "from sklearn.metrics import r2_score"
   ]
  },
  {
   "cell_type": "code",
   "execution_count": 2,
   "id": "0cac4536",
   "metadata": {},
   "outputs": [],
   "source": [
    "#importing data\n",
    "train_data=pd.read_csv('train.csv')\n",
    "test_data=pd.read_csv('test.csv')"
   ]
  },
  {
   "cell_type": "code",
   "execution_count": 3,
   "id": "2d53d739",
   "metadata": {},
   "outputs": [
    {
     "data": {
      "text/plain": [
       "(4209, 378)"
      ]
     },
     "execution_count": 3,
     "metadata": {},
     "output_type": "execute_result"
    }
   ],
   "source": [
    "#checking the shape of dataset\n",
    "train_data.shape"
   ]
  },
  {
   "cell_type": "code",
   "execution_count": 4,
   "id": "5c872598",
   "metadata": {},
   "outputs": [
    {
     "data": {
      "text/plain": [
       "(4209, 377)"
      ]
     },
     "execution_count": 4,
     "metadata": {},
     "output_type": "execute_result"
    }
   ],
   "source": [
    "test_data.shape"
   ]
  },
  {
   "cell_type": "code",
   "execution_count": 5,
   "id": "f71b5d4b",
   "metadata": {},
   "outputs": [
    {
     "name": "stdout",
     "output_type": "stream",
     "text": [
      "X0\n",
      "X1\n",
      "X2\n",
      "X3\n",
      "X4\n",
      "X5\n",
      "X6\n",
      "X8\n"
     ]
    }
   ],
   "source": [
    "#checking the categorical columns in dataset\n",
    "def cat_type(y):\n",
    "    for x in y.columns:\n",
    "        if train_data[x].dtype=='object':\n",
    "            print(x)\n",
    "        \n",
    "cat_type(train_data)"
   ]
  },
  {
   "cell_type": "code",
   "execution_count": 6,
   "id": "8eeae9a8",
   "metadata": {},
   "outputs": [
    {
     "name": "stdout",
     "output_type": "stream",
     "text": [
      "X0\n",
      "X1\n",
      "X2\n",
      "X3\n",
      "X4\n",
      "X5\n",
      "X6\n",
      "X8\n"
     ]
    }
   ],
   "source": [
    "cat_type(test_data)"
   ]
  },
  {
   "cell_type": "markdown",
   "id": "68fb05fe",
   "metadata": {},
   "source": [
    "# Label Encoding the same in train and test dataset"
   ]
  },
  {
   "cell_type": "code",
   "execution_count": 7,
   "id": "953a62c3",
   "metadata": {},
   "outputs": [],
   "source": [
    "\n",
    "from sklearn.preprocessing import LabelEncoder\n",
    "le = LabelEncoder()\n",
    "train_data['X0'] = le.fit_transform(train_data.X0)\n",
    "train_data['X1'] = le.fit_transform(train_data.X1)\n",
    "train_data['X2'] = le.fit_transform(train_data.X2)\n",
    "train_data['X3'] = le.fit_transform(train_data.X3)\n",
    "train_data['X4'] = le.fit_transform(train_data.X4)\n",
    "train_data['X5'] = le.fit_transform(train_data.X5)\n",
    "train_data['X6'] = le.fit_transform(train_data.X6)\n",
    "train_data['X8'] = le.fit_transform(train_data.X8)"
   ]
  },
  {
   "cell_type": "code",
   "execution_count": 8,
   "id": "b4094662",
   "metadata": {},
   "outputs": [
    {
     "data": {
      "text/plain": [
       "(4209, 378)"
      ]
     },
     "execution_count": 8,
     "metadata": {},
     "output_type": "execute_result"
    }
   ],
   "source": [
    "train_data.shape"
   ]
  },
  {
   "cell_type": "code",
   "execution_count": 9,
   "id": "28a0938c",
   "metadata": {},
   "outputs": [],
   "source": [
    "test_data['X0'] = le.fit_transform(test_data.X0)\n",
    "test_data['X1'] = le.fit_transform(test_data.X1)\n",
    "test_data['X2'] = le.fit_transform(test_data.X2)\n",
    "test_data['X3'] = le.fit_transform(test_data.X3)\n",
    "test_data['X4'] = le.fit_transform(test_data.X4)\n",
    "test_data['X5'] = le.fit_transform(test_data.X5)\n",
    "test_data['X6'] = le.fit_transform(test_data.X6)\n",
    "test_data['X8'] = le.fit_transform(test_data.X8)"
   ]
  },
  {
   "cell_type": "code",
   "execution_count": 10,
   "id": "474f7abb",
   "metadata": {},
   "outputs": [
    {
     "data": {
      "text/plain": [
       "(4209, 377)"
      ]
     },
     "execution_count": 10,
     "metadata": {},
     "output_type": "execute_result"
    }
   ],
   "source": [
    "test_data.shape"
   ]
  },
  {
   "cell_type": "code",
   "execution_count": 11,
   "id": "27240948",
   "metadata": {},
   "outputs": [
    {
     "data": {
      "text/html": [
       "<div>\n",
       "<style scoped>\n",
       "    .dataframe tbody tr th:only-of-type {\n",
       "        vertical-align: middle;\n",
       "    }\n",
       "\n",
       "    .dataframe tbody tr th {\n",
       "        vertical-align: top;\n",
       "    }\n",
       "\n",
       "    .dataframe thead th {\n",
       "        text-align: right;\n",
       "    }\n",
       "</style>\n",
       "<table border=\"1\" class=\"dataframe\">\n",
       "  <thead>\n",
       "    <tr style=\"text-align: right;\">\n",
       "      <th></th>\n",
       "      <th>y</th>\n",
       "      <th>level_1</th>\n",
       "    </tr>\n",
       "  </thead>\n",
       "  <tbody>\n",
       "    <tr>\n",
       "      <th>0</th>\n",
       "      <td>130.81</td>\n",
       "      <td>X13</td>\n",
       "    </tr>\n",
       "    <tr>\n",
       "      <th>1</th>\n",
       "      <td>130.81</td>\n",
       "      <td>X18</td>\n",
       "    </tr>\n",
       "    <tr>\n",
       "      <th>2</th>\n",
       "      <td>130.81</td>\n",
       "      <td>X21</td>\n",
       "    </tr>\n",
       "    <tr>\n",
       "      <th>3</th>\n",
       "      <td>130.81</td>\n",
       "      <td>X31</td>\n",
       "    </tr>\n",
       "    <tr>\n",
       "      <th>4</th>\n",
       "      <td>130.81</td>\n",
       "      <td>X35</td>\n",
       "    </tr>\n",
       "    <tr>\n",
       "      <th>...</th>\n",
       "      <td>...</td>\n",
       "      <td>...</td>\n",
       "    </tr>\n",
       "    <tr>\n",
       "      <th>245524</th>\n",
       "      <td>110.85</td>\n",
       "      <td>X355</td>\n",
       "    </tr>\n",
       "    <tr>\n",
       "      <th>245525</th>\n",
       "      <td>110.85</td>\n",
       "      <td>X361</td>\n",
       "    </tr>\n",
       "    <tr>\n",
       "      <th>245526</th>\n",
       "      <td>110.85</td>\n",
       "      <td>X362</td>\n",
       "    </tr>\n",
       "    <tr>\n",
       "      <th>245527</th>\n",
       "      <td>110.85</td>\n",
       "      <td>X363</td>\n",
       "    </tr>\n",
       "    <tr>\n",
       "      <th>245528</th>\n",
       "      <td>110.85</td>\n",
       "      <td>X375</td>\n",
       "    </tr>\n",
       "  </tbody>\n",
       "</table>\n",
       "<p>245529 rows × 2 columns</p>\n",
       "</div>"
      ],
      "text/plain": [
       "             y level_1\n",
       "0       130.81     X13\n",
       "1       130.81     X18\n",
       "2       130.81     X21\n",
       "3       130.81     X31\n",
       "4       130.81     X35\n",
       "...        ...     ...\n",
       "245524  110.85    X355\n",
       "245525  110.85    X361\n",
       "245526  110.85    X362\n",
       "245527  110.85    X363\n",
       "245528  110.85    X375\n",
       "\n",
       "[245529 rows x 2 columns]"
      ]
     },
     "execution_count": 11,
     "metadata": {},
     "output_type": "execute_result"
    }
   ],
   "source": [
    "#Visualization part \n",
    "train_visual=train_data.set_index('y')\n",
    "\n",
    "count_final =train_visual[train_visual==1].stack().reset_index().drop(0, axis=1)\n",
    "count_final"
   ]
  },
  {
   "cell_type": "code",
   "execution_count": 12,
   "id": "93e5c3eb",
   "metadata": {},
   "outputs": [
    {
     "data": {
      "image/png": "[encoded data removed]",
      "text/plain": [
       "<Figure size 640x480 with 1 Axes>"
      ]
     },
     "metadata": {},
     "output_type": "display_data"
    }
   ],
   "source": [
    "#undestanding the outliers \n",
    "count_final.plot(kind='box')\n",
    "plt.show()"
   ]
  },
  {
   "cell_type": "code",
   "execution_count": 13,
   "id": "5db17929",
   "metadata": {},
   "outputs": [
    {
     "name": "stdout",
     "output_type": "stream",
     "text": [
      "Int64Index([   0,   43,  203,  216,  225,  227,  253,  342,  420,  429,  523,\n",
      "             648,  668,  681,  698,  846,  883,  889,  900,  995,  998, 1033,\n",
      "            1036, 1060, 1141, 1203, 1205, 1237, 1269, 1272, 1279, 1308, 1349,\n",
      "            1427, 1459, 1551, 1627, 1667, 1712, 1730, 1908, 1922, 2240, 2263,\n",
      "            2280, 2348, 2357, 2375, 2376, 2414, 2447, 2470, 2475, 2496, 2530,\n",
      "            2532, 2555, 2697, 2735, 2736, 2852, 2887, 2888, 2905, 2983, 3028,\n",
      "            3090, 3093, 3133, 3151, 3165, 3177, 3215, 3358, 3442, 3645, 3744,\n",
      "            3773, 3980, 4176, 4186],\n",
      "           dtype='int64')\n"
     ]
    }
   ],
   "source": [
    "#removing the outliers\n",
    "outlier=train_data[train_data['y'] > 130].index\n",
    "print(outlier)\n",
    "train_data.drop(outlier,inplace=True)\n",
    "test_data.drop(outlier,inplace=True)"
   ]
  },
  {
   "cell_type": "code",
   "execution_count": 14,
   "id": "398d3006",
   "metadata": {},
   "outputs": [
    {
     "data": {
      "text/plain": [
       "(4128, 378)"
      ]
     },
     "execution_count": 14,
     "metadata": {},
     "output_type": "execute_result"
    }
   ],
   "source": [
    "train_data.shape"
   ]
  },
  {
   "cell_type": "code",
   "execution_count": 15,
   "id": "74e7be79",
   "metadata": {},
   "outputs": [
    {
     "data": {
      "text/plain": [
       "(4128, 377)"
      ]
     },
     "execution_count": 15,
     "metadata": {},
     "output_type": "execute_result"
    }
   ],
   "source": [
    "test_data.shape"
   ]
  },
  {
   "cell_type": "markdown",
   "id": "befc248a",
   "metadata": {},
   "source": [
    "# If for any column(s), the variance is equal to zero, then need to remove those variable(s)."
   ]
  },
  {
   "cell_type": "code",
   "execution_count": 16,
   "id": "e79f5107",
   "metadata": {},
   "outputs": [
    {
     "data": {
      "text/plain": [
       "ID      5.957201e+06\n",
       "y       1.234556e+02\n",
       "X0      1.874589e+02\n",
       "X1      7.297806e+01\n",
       "X2      1.187460e+02\n",
       "            ...     \n",
       "X380    8.170575e-03\n",
       "X382    7.693709e-03\n",
       "X383    1.210066e-03\n",
       "X384    4.843787e-04\n",
       "X385    1.451727e-03\n",
       "Length: 378, dtype: float64"
      ]
     },
     "execution_count": 16,
     "metadata": {},
     "output_type": "execute_result"
    }
   ],
   "source": [
    "train_data.var()"
   ]
  },
  {
   "cell_type": "code",
   "execution_count": 17,
   "id": "7b7bf480",
   "metadata": {},
   "outputs": [
    {
     "data": {
      "text/plain": [
       "ID      5.886448e+06\n",
       "X0      2.317382e+02\n",
       "X1      7.310887e+01\n",
       "X2      1.040533e+02\n",
       "X3      3.161573e+00\n",
       "            ...     \n",
       "X380    7.932201e-03\n",
       "X382    8.884992e-03\n",
       "X383    4.843787e-04\n",
       "X384    7.263920e-04\n",
       "X385    1.693271e-03\n",
       "Length: 377, dtype: float64"
      ]
     },
     "execution_count": 17,
     "metadata": {},
     "output_type": "execute_result"
    }
   ],
   "source": [
    "test_data.var()"
   ]
  },
  {
   "cell_type": "code",
   "execution_count": 18,
   "id": "e380c9ba",
   "metadata": {},
   "outputs": [
    {
     "data": {
      "text/plain": [
       "Index(['X11', 'X93', 'X107', 'X204', 'X205', 'X233', 'X235', 'X236', 'X268',\n",
       "       'X289', 'X290', 'X293', 'X297', 'X330', 'X339', 'X347'],\n",
       "      dtype='object')"
      ]
     },
     "execution_count": 18,
     "metadata": {},
     "output_type": "execute_result"
    }
   ],
   "source": [
    "#getting the variance==0 features\n",
    "var_zero=train_data.var()[train_data.var()==0].index\n",
    "var_zero\n"
   ]
  },
  {
   "cell_type": "code",
   "execution_count": 19,
   "id": "03d91c08",
   "metadata": {},
   "outputs": [],
   "source": [
    "#droping those features whoes var==0\n",
    "train_data.drop(var_zero,axis=1,inplace=True)\n",
    "test_data.drop(var_zero,axis=1,inplace=True)"
   ]
  },
  {
   "cell_type": "code",
   "execution_count": 20,
   "id": "69dfa9da",
   "metadata": {},
   "outputs": [
    {
     "data": {
      "text/plain": [
       "(4128, 362)"
      ]
     },
     "execution_count": 20,
     "metadata": {},
     "output_type": "execute_result"
    }
   ],
   "source": [
    "train_data.shape"
   ]
  },
  {
   "cell_type": "code",
   "execution_count": 21,
   "id": "2ea511b4",
   "metadata": {},
   "outputs": [
    {
     "data": {
      "text/plain": [
       "(4128, 361)"
      ]
     },
     "execution_count": 21,
     "metadata": {},
     "output_type": "execute_result"
    }
   ],
   "source": [
    "test_data.shape"
   ]
  },
  {
   "cell_type": "markdown",
   "id": "cfdbb4b8",
   "metadata": {},
   "source": [
    "# Check for null and unique values for test and train sets.\n"
   ]
  },
  {
   "cell_type": "code",
   "execution_count": 22,
   "id": "176fce13",
   "metadata": {},
   "outputs": [
    {
     "name": "stdout",
     "output_type": "stream",
     "text": [
      "False\n",
      "False\n"
     ]
    }
   ],
   "source": [
    "print(train_data.isnull().sum().any())\n",
    "print(test_data.isnull().sum().any())"
   ]
  },
  {
   "cell_type": "code",
   "execution_count": 23,
   "id": "33939464",
   "metadata": {},
   "outputs": [
    {
     "name": "stdout",
     "output_type": "stream",
     "text": [
      "ID ** [   6    7    9 ... 8412 8415 8417]\n",
      "y ** [ 88.53  76.26  80.62 ...  85.71 108.77  87.48]\n",
      "X0 ** [32 20 40  9 36 43 31 29 39 35 19 27 44 45  7  8 10 46 37 15 12 42  5  0\n",
      " 26  6 25 13 24 22 14 30 38 21 18 23 41  4 16 34 33 17 11  3 28  2]\n",
      "X1 ** [21 24 23  3 19 13 20  1  4  0  6  9 26 11 16 22 17 15 10 25  5  7 14 12\n",
      "  8 18  2]\n",
      "X2 ** [19 34 25 16 14 38  7  8 33  0 31  3 39 26 24  5 21  2 13 27 29 20 42 22\n",
      " 12  9 41 18 40 11 43  6 36 10 28 17 30 37  4 32 23 35]\n",
      "X3 ** [4 2 5 3 1 6 0]\n",
      "X4 ** [3 1 0]\n",
      "X5 ** [28 27 12 11 10 14 13  9  8  5  6  1  2  3  4  7 16 15 18 17 20 21 23 22\n",
      " 25 26 19  0]\n",
      "X6 ** [11  9  3  7  8  0  6  2 10  4  5  1]\n",
      "X8 ** [14 23  4 13 18  0  7 15 12 10  3  8 21  9  1 16 22  6 24 11  5 20 17 19\n",
      "  2]\n",
      "X10 ** [0 1]\n",
      "X12 ** [0 1]\n",
      "X13 ** [0 1]\n",
      "X14 ** [0 1]\n",
      "X15 ** [0 1]\n",
      "X16 ** [0 1]\n",
      "X17 ** [0 1]\n",
      "X18 ** [1 0]\n",
      "X19 ** [0 1]\n",
      "X20 ** [0 1]\n",
      "X21 ** [0 1]\n",
      "X22 ** [0 1]\n",
      "X23 ** [0 1]\n",
      "X24 ** [0 1]\n",
      "X26 ** [0 1]\n",
      "X27 ** [1 0]\n",
      "X28 ** [0 1]\n",
      "X29 ** [0 1]\n",
      "X30 ** [0 1]\n",
      "X31 ** [1 0]\n",
      "X32 ** [0 1]\n",
      "X33 ** [0 1]\n",
      "X34 ** [0 1]\n",
      "X35 ** [1 0]\n",
      "X36 ** [0 1]\n",
      "X37 ** [1 0]\n",
      "X38 ** [0 1]\n",
      "X39 ** [0 1]\n",
      "X40 ** [0 1]\n",
      "X41 ** [0 1]\n",
      "X42 ** [0 1]\n",
      "X43 ** [0 1]\n",
      "X44 ** [0 1]\n",
      "X45 ** [0 1]\n",
      "X46 ** [0 1]\n",
      "X47 ** [0 1]\n",
      "X48 ** [0 1]\n",
      "X49 ** [0 1]\n",
      "X50 ** [0 1]\n",
      "X51 ** [1 0]\n",
      "X52 ** [0 1]\n",
      "X53 ** [0 1]\n",
      "X54 ** [0 1]\n",
      "X55 ** [0 1]\n",
      "X56 ** [0 1]\n",
      "X57 ** [0 1]\n",
      "X58 ** [0 1]\n",
      "X59 ** [0 1]\n",
      "X60 ** [0 1]\n",
      "X61 ** [1 0]\n",
      "X62 ** [0 1]\n",
      "X63 ** [0 1]\n",
      "X64 ** [0 1]\n",
      "X65 ** [0 1]\n",
      "X66 ** [0 1]\n",
      "X67 ** [0 1]\n",
      "X68 ** [0 1]\n",
      "X69 ** [0 1]\n",
      "X70 ** [1 0]\n",
      "X71 ** [0 1]\n",
      "X73 ** [0 1]\n",
      "X74 ** [1 0]\n",
      "X75 ** [0 1]\n",
      "X76 ** [0 1]\n",
      "X77 ** [0 1]\n",
      "X78 ** [0 1]\n",
      "X79 ** [0 1]\n",
      "X80 ** [1 0]\n",
      "X81 ** [0 1]\n",
      "X82 ** [0 1]\n",
      "X83 ** [0 1]\n",
      "X84 ** [0 1]\n",
      "X85 ** [1 0]\n",
      "X86 ** [0 1]\n",
      "X87 ** [0 1]\n",
      "X88 ** [0 1]\n",
      "X89 ** [0 1]\n",
      "X90 ** [0 1]\n",
      "X91 ** [0 1]\n",
      "X92 ** [0 1]\n",
      "X94 ** [0 1]\n",
      "X95 ** [0 1]\n",
      "X96 ** [1 0]\n",
      "X97 ** [0 1]\n",
      "X98 ** [1 0]\n",
      "X99 ** [0 1]\n",
      "X100 ** [1 0]\n",
      "X101 ** [1 0]\n",
      "X102 ** [0 1]\n",
      "X103 ** [0 1]\n",
      "X104 ** [0 1]\n",
      "X105 ** [0 1]\n",
      "X106 ** [0 1]\n",
      "X108 ** [0 1]\n",
      "X109 ** [0 1]\n",
      "X110 ** [0 1]\n",
      "X111 ** [1 0]\n",
      "X112 ** [0 1]\n",
      "X113 ** [0 1]\n",
      "X114 ** [0 1]\n",
      "X115 ** [0 1]\n",
      "X116 ** [0 1]\n",
      "X117 ** [0 1]\n",
      "X118 ** [1 0]\n",
      "X119 ** [1 0]\n",
      "X120 ** [1 0]\n",
      "X122 ** [0 1]\n",
      "X123 ** [0 1]\n",
      "X124 ** [0 1]\n",
      "X125 ** [0 1]\n",
      "X126 ** [0 1]\n",
      "X127 ** [1 0]\n",
      "X128 ** [1 0]\n",
      "X129 ** [0 1]\n",
      "X130 ** [0 1]\n",
      "X131 ** [0 1]\n",
      "X132 ** [1 0]\n",
      "X133 ** [0 1]\n",
      "X134 ** [0 1]\n",
      "X135 ** [0 1]\n",
      "X136 ** [1 0]\n",
      "X137 ** [0 1]\n",
      "X138 ** [0 1]\n",
      "X139 ** [0 1]\n",
      "X140 ** [0 1]\n",
      "X141 ** [0 1]\n",
      "X142 ** [1 0]\n",
      "X143 ** [0 1]\n",
      "X144 ** [1 0]\n",
      "X145 ** [0 1]\n",
      "X146 ** [0 1]\n",
      "X147 ** [0 1]\n",
      "X148 ** [0 1]\n",
      "X150 ** [1 0]\n",
      "X151 ** [0 1]\n",
      "X152 ** [0 1]\n",
      "X153 ** [0 1]\n",
      "X154 ** [0 1]\n",
      "X155 ** [0 1]\n",
      "X156 ** [1 0]\n",
      "X157 ** [0 1]\n",
      "X158 ** [0 1]\n",
      "X159 ** [0 1]\n",
      "X160 ** [0 1]\n",
      "X161 ** [0 1]\n",
      "X162 ** [0 1]\n",
      "X163 ** [0 1]\n",
      "X164 ** [0 1]\n",
      "X165 ** [1 0]\n",
      "X166 ** [0 1]\n",
      "X167 ** [0 1]\n",
      "X168 ** [0 1]\n",
      "X169 ** [0 1]\n",
      "X170 ** [0 1]\n",
      "X171 ** [0 1]\n",
      "X172 ** [0 1]\n",
      "X173 ** [0 1]\n",
      "X174 ** [0 1]\n",
      "X175 ** [0 1]\n",
      "X176 ** [0 1]\n",
      "X177 ** [0 1]\n",
      "X178 ** [1 0]\n",
      "X179 ** [0 1]\n",
      "X180 ** [0 1]\n",
      "X181 ** [0 1]\n",
      "X182 ** [0 1]\n",
      "X183 ** [0 1]\n",
      "X184 ** [0 1]\n",
      "X185 ** [0 1]\n",
      "X186 ** [0 1]\n",
      "X187 ** [1 0]\n",
      "X189 ** [1 0]\n",
      "X190 ** [0 1]\n",
      "X191 ** [0 1]\n",
      "X192 ** [0 1]\n",
      "X194 ** [1 0]\n",
      "X195 ** [0 1]\n",
      "X196 ** [0 1]\n",
      "X197 ** [0 1]\n",
      "X198 ** [0 1]\n",
      "X199 ** [0 1]\n",
      "X200 ** [0 1]\n",
      "X201 ** [0 1]\n",
      "X202 ** [0 1]\n",
      "X203 ** [0 1]\n",
      "X206 ** [0 1]\n",
      "X207 ** [0 1]\n",
      "X208 ** [0 1]\n",
      "X209 ** [1 0]\n",
      "X210 ** [0 1]\n",
      "X211 ** [0 1]\n",
      "X212 ** [0 1]\n",
      "X213 ** [0 1]\n",
      "X214 ** [0 1]\n",
      "X215 ** [0 1]\n",
      "X216 ** [0 1]\n",
      "X217 ** [0 1]\n",
      "X218 ** [0 1]\n",
      "X219 ** [0 1]\n",
      "X220 ** [0 1]\n",
      "X221 ** [0 1]\n",
      "X222 ** [0 1]\n",
      "X223 ** [0 1]\n",
      "X224 ** [0 1]\n",
      "X225 ** [0 1]\n",
      "X226 ** [0 1]\n",
      "X227 ** [0 1]\n",
      "X228 ** [0 1]\n",
      "X229 ** [1 0]\n",
      "X230 ** [0 1]\n",
      "X231 ** [0 1]\n",
      "X232 ** [0 1]\n",
      "X234 ** [0 1]\n",
      "X237 ** [0 1]\n",
      "X238 ** [1 0]\n",
      "X239 ** [0 1]\n",
      "X240 ** [0 1]\n",
      "X241 ** [0 1]\n",
      "X242 ** [0 1]\n",
      "X243 ** [0 1]\n",
      "X244 ** [0 1]\n",
      "X245 ** [0 1]\n",
      "X246 ** [0 1]\n",
      "X247 ** [0 1]\n",
      "X248 ** [0 1]\n",
      "X249 ** [0 1]\n",
      "X250 ** [1 0]\n",
      "X251 ** [0 1]\n",
      "X252 ** [0 1]\n",
      "X253 ** [0 1]\n",
      "X254 ** [0 1]\n",
      "X255 ** [0 1]\n",
      "X256 ** [0 1]\n",
      "X257 ** [0 1]\n",
      "X258 ** [0 1]\n",
      "X259 ** [0 1]\n",
      "X260 ** [0 1]\n",
      "X261 ** [0 1]\n",
      "X262 ** [0 1]\n",
      "X263 ** [1 0]\n",
      "X264 ** [0 1]\n",
      "X265 ** [1 0]\n",
      "X266 ** [0 1]\n",
      "X267 ** [0 1]\n",
      "X269 ** [0 1]\n",
      "X270 ** [0 1]\n",
      "X271 ** [0 1]\n",
      "X272 ** [0 1]\n",
      "X273 ** [1 0]\n",
      "X274 ** [0 1]\n",
      "X275 ** [1 0]\n",
      "X276 ** [0 1]\n",
      "X277 ** [0 1]\n",
      "X278 ** [0 1]\n",
      "X279 ** [0 1]\n",
      "X280 ** [0 1]\n",
      "X281 ** [0 1]\n",
      "X282 ** [0 1]\n",
      "X283 ** [0 1]\n",
      "X284 ** [0 1]\n",
      "X285 ** [1 0]\n",
      "X286 ** [0 1]\n",
      "X287 ** [0 1]\n",
      "X288 ** [0 1]\n",
      "X291 ** [0 1]\n",
      "X292 ** [0 1]\n",
      "X294 ** [0 1]\n",
      "X295 ** [0 1]\n",
      "X296 ** [0 1]\n",
      "X298 ** [0 1]\n",
      "X299 ** [0 1]\n",
      "X300 ** [0 1]\n",
      "X301 ** [0 1]\n",
      "X302 ** [0 1]\n",
      "X304 ** [1 0]\n",
      "X305 ** [0 1]\n",
      "X306 ** [0 1]\n",
      "X307 ** [0 1]\n",
      "X308 ** [0 1]\n",
      "X309 ** [0 1]\n",
      "X310 ** [0 1]\n",
      "X311 ** [1 0]\n",
      "X312 ** [0 1]\n",
      "X313 ** [0 1]\n",
      "X314 ** [0 1]\n",
      "X315 ** [0 1]\n",
      "X316 ** [1 0]\n",
      "X317 ** [0 1]\n",
      "X318 ** [0 1]\n",
      "X319 ** [0 1]\n",
      "X320 ** [0 1]\n",
      "X321 ** [0 1]\n",
      "X322 ** [0 1]\n",
      "X323 ** [0 1]\n",
      "X324 ** [0 1]\n",
      "X325 ** [0 1]\n",
      "X326 ** [0 1]\n",
      "X327 ** [0 1]\n",
      "X328 ** [0 1]\n",
      "X329 ** [1 0]\n",
      "X331 ** [0 1]\n",
      "X332 ** [0 1]\n",
      "X333 ** [0 1]\n",
      "X334 ** [0 1]\n",
      "X335 ** [0 1]\n",
      "X336 ** [1 0]\n",
      "X337 ** [1 0]\n",
      "X338 ** [0 1]\n",
      "X340 ** [0 1]\n",
      "X341 ** [0 1]\n",
      "X342 ** [0 1]\n",
      "X343 ** [0 1]\n",
      "X344 ** [0 1]\n",
      "X345 ** [0 1]\n",
      "X346 ** [0 1]\n",
      "X348 ** [1 0]\n",
      "X349 ** [0 1]\n",
      "X350 ** [0 1]\n",
      "X351 ** [0 1]\n",
      "X352 ** [0 1]\n",
      "X353 ** [0 1]\n",
      "X354 ** [0 1]\n",
      "X355 ** [0 1]\n",
      "X356 ** [0 1]\n",
      "X357 ** [0 1]\n",
      "X358 ** [0 1]\n",
      "X359 ** [0 1]\n",
      "X360 ** [0 1]\n",
      "X361 ** [1 0]\n",
      "X362 ** [0 1]\n",
      "X363 ** [1 0]\n",
      "X364 ** [0 1]\n",
      "X365 ** [0 1]\n",
      "X366 ** [0 1]\n",
      "X367 ** [0 1]\n",
      "X368 ** [0 1]\n",
      "X369 ** [0 1]\n",
      "X370 ** [0 1]\n",
      "X371 ** [0 1]\n",
      "X372 ** [0 1]\n",
      "X373 ** [0 1]\n",
      "X374 ** [0 1]\n",
      "X375 ** [1 0]\n",
      "X376 ** [0 1]\n",
      "X377 ** [0 1]\n",
      "X378 ** [0 1]\n",
      "X379 ** [0 1]\n",
      "X380 ** [0 1]\n",
      "X382 ** [0 1]\n",
      "X383 ** [0 1]\n",
      "X384 ** [0 1]\n",
      "X385 ** [0 1]\n"
     ]
    }
   ],
   "source": [
    "# Checking the unique values for each column in train data\n",
    "for i in train_data.columns:\n",
    "    print(i,'**',train_data[i].unique())"
   ]
  },
  {
   "cell_type": "code",
   "execution_count": 24,
   "id": "ac583c3c",
   "metadata": {},
   "outputs": [
    {
     "name": "stdout",
     "output_type": "stream",
     "text": [
      "ID ** [   2    3    4 ... 8413 8414 8416]\n",
      "X0 ** [42 21 45 47 46 29 12 38 20  8 31 48  6 27  7 44 23 37 33 41  3 19 15 13\n",
      " 17 36 34  0 28  5 32  4 22  9 18 14 40 11 43 35 26  1 16 25 30 10  2 39\n",
      " 24]\n",
      "X1 ** [ 3 23 13 20  1 19  0 10 17  4 16 14 26  6  9 24  8 12 25 21 22  5 11 18\n",
      " 15  7  2]\n",
      "X2 ** [ 8 17 34  4 38 24 26 10 33  0 16  6 37 32  9 23 14 13  2  5 29 30 27 15\n",
      " 35 19 39 44 21 18 28 12 31 42  1 41 36 25  7  3 11 20 40]\n",
      "X3 ** [0 5 2 4 3 6 1]\n",
      "X4 ** [3 1 0 2]\n",
      "X5 ** [ 9  0 31 30 29 14 13 12 16 15 11 10  6  7  2  3  4  5  8 18 17 20 19 22\n",
      " 23 25 24 27 28 21  1]\n",
      "X6 ** [ 6  9 11  8  3  5  7  0  2 10  4  1]\n",
      "X8 ** [24  9 13 12 18  0 21 17 14 19  7  2 10 22 15 20  3  6  1  4 11  5 16  8\n",
      " 23]\n",
      "X10 ** [0 1]\n",
      "X12 ** [0 1]\n",
      "X13 ** [0 1]\n",
      "X14 ** [0 1]\n",
      "X15 ** [0 1]\n",
      "X16 ** [0 1]\n",
      "X17 ** [0 1]\n",
      "X18 ** [0 1]\n",
      "X19 ** [1 0]\n",
      "X20 ** [0 1]\n",
      "X21 ** [0 1]\n",
      "X22 ** [0 1]\n",
      "X23 ** [0 1]\n",
      "X24 ** [0 1]\n",
      "X26 ** [0 1]\n",
      "X27 ** [1 0]\n",
      "X28 ** [0 1]\n",
      "X29 ** [0 1]\n",
      "X30 ** [0 1]\n",
      "X31 ** [1 0]\n",
      "X32 ** [0 1]\n",
      "X33 ** [0 1]\n",
      "X34 ** [0 1]\n",
      "X35 ** [1 0]\n",
      "X36 ** [0 1]\n",
      "X37 ** [1 0]\n",
      "X38 ** [0 1]\n",
      "X39 ** [0 1]\n",
      "X40 ** [0 1]\n",
      "X41 ** [0 1]\n",
      "X42 ** [0 1]\n",
      "X43 ** [0 1]\n",
      "X44 ** [0 1]\n",
      "X45 ** [1 0]\n",
      "X46 ** [1 0]\n",
      "X47 ** [0 1]\n",
      "X48 ** [0 1]\n",
      "X49 ** [1 0]\n",
      "X50 ** [1 0]\n",
      "X51 ** [1 0]\n",
      "X52 ** [0 1]\n",
      "X53 ** [0 1]\n",
      "X54 ** [0 1]\n",
      "X55 ** [0 1]\n",
      "X56 ** [0 1]\n",
      "X57 ** [0 1]\n",
      "X58 ** [1 0]\n",
      "X59 ** [0 1]\n",
      "X60 ** [0 1]\n",
      "X61 ** [1 0]\n",
      "X62 ** [0 1]\n",
      "X63 ** [0 1]\n",
      "X64 ** [0 1]\n",
      "X65 ** [0 1]\n",
      "X66 ** [0 1]\n",
      "X67 ** [0 1]\n",
      "X68 ** [0 1]\n",
      "X69 ** [0 1]\n",
      "X70 ** [1 0]\n",
      "X71 ** [0 1]\n",
      "X73 ** [0 1]\n",
      "X74 ** [1 0]\n",
      "X75 ** [0 1]\n",
      "X76 ** [0 1]\n",
      "X77 ** [0 1]\n",
      "X78 ** [0 1]\n",
      "X79 ** [0 1]\n",
      "X80 ** [1 0]\n",
      "X81 ** [0 1]\n",
      "X82 ** [0 1]\n",
      "X83 ** [0 1]\n",
      "X84 ** [0 1]\n",
      "X85 ** [0 1]\n",
      "X86 ** [0 1]\n",
      "X87 ** [0 1]\n",
      "X88 ** [0 1]\n",
      "X89 ** [0 1]\n",
      "X90 ** [0 1]\n",
      "X91 ** [0 1]\n",
      "X92 ** [0 1]\n",
      "X94 ** [0 1]\n",
      "X95 ** [0 1]\n",
      "X96 ** [0 1]\n",
      "X97 ** [0 1]\n",
      "X98 ** [1 0]\n",
      "X99 ** [0 1]\n",
      "X100 ** [0 1]\n",
      "X101 ** [1 0]\n",
      "X102 ** [0 1]\n",
      "X103 ** [1 0]\n",
      "X104 ** [0 1]\n",
      "X105 ** [0 1]\n",
      "X106 ** [0 1]\n",
      "X108 ** [0 1]\n",
      "X109 ** [0 1]\n",
      "X110 ** [0 1]\n",
      "X111 ** [1 0]\n",
      "X112 ** [0 1]\n",
      "X113 ** [0 1]\n",
      "X114 ** [0 1]\n",
      "X115 ** [0 1]\n",
      "X116 ** [1 0]\n",
      "X117 ** [0 1]\n",
      "X118 ** [1 0]\n",
      "X119 ** [1 0]\n",
      "X120 ** [1 0]\n",
      "X122 ** [0 1]\n",
      "X123 ** [0 1]\n",
      "X124 ** [0 1]\n",
      "X125 ** [0 1]\n",
      "X126 ** [0 1]\n",
      "X127 ** [1 0]\n",
      "X128 ** [1 0]\n",
      "X129 ** [1 0]\n",
      "X130 ** [0 1]\n",
      "X131 ** [0 1]\n",
      "X132 ** [0 1]\n",
      "X133 ** [1 0]\n",
      "X134 ** [0 1]\n",
      "X135 ** [0 1]\n",
      "X136 ** [1 0]\n",
      "X137 ** [1 0]\n",
      "X138 ** [1 0]\n",
      "X139 ** [0 1]\n",
      "X140 ** [1 0]\n",
      "X141 ** [0 1]\n",
      "X142 ** [1 0]\n",
      "X143 ** [0 1]\n",
      "X144 ** [0 1]\n",
      "X145 ** [0 1]\n",
      "X146 ** [1 0]\n",
      "X147 ** [0 1]\n",
      "X148 ** [0 1]\n",
      "X150 ** [0 1]\n",
      "X151 ** [0 1]\n",
      "X152 ** [0 1]\n",
      "X153 ** [0 1]\n",
      "X154 ** [0 1]\n",
      "X155 ** [0 1]\n",
      "X156 ** [1 0]\n",
      "X157 ** [0 1]\n",
      "X158 ** [0 1]\n",
      "X159 ** [0 1]\n",
      "X160 ** [0 1]\n",
      "X161 ** [1 0]\n",
      "X162 ** [0 1]\n",
      "X163 ** [1 0]\n",
      "X164 ** [1 0]\n",
      "X165 ** [0 1]\n",
      "X166 ** [0 1]\n",
      "X167 ** [0 1]\n",
      "X168 ** [0 1]\n",
      "X169 ** [0 1]\n",
      "X170 ** [0 1]\n",
      "X171 ** [1 0]\n",
      "X172 ** [0 1]\n",
      "X173 ** [0 1]\n",
      "X174 ** [0 1]\n",
      "X175 ** [0 1]\n",
      "X176 ** [0 1]\n",
      "X177 ** [0 1]\n",
      "X178 ** [0 1]\n",
      "X179 ** [0 1]\n",
      "X180 ** [0 1]\n",
      "X181 ** [0 1]\n",
      "X182 ** [0 1]\n",
      "X183 ** [0 1]\n",
      "X184 ** [0 1]\n",
      "X185 ** [0 1]\n",
      "X186 ** [1 0]\n",
      "X187 ** [0 1]\n",
      "X189 ** [1 0]\n",
      "X190 ** [0 1]\n",
      "X191 ** [0 1]\n",
      "X192 ** [0 1]\n",
      "X194 ** [0 1]\n",
      "X195 ** [0 1]\n",
      "X196 ** [0 1]\n",
      "X197 ** [0 1]\n",
      "X198 ** [0 1]\n",
      "X199 ** [0 1]\n",
      "X200 ** [0 1]\n",
      "X201 ** [0 1]\n",
      "X202 ** [1 0]\n",
      "X203 ** [0 1]\n",
      "X206 ** [0 1]\n",
      "X207 ** [0 1]\n",
      "X208 ** [1 0]\n",
      "X209 ** [0 1]\n",
      "X210 ** [0 1]\n",
      "X211 ** [0 1]\n",
      "X212 ** [0 1]\n",
      "X213 ** [0 1]\n",
      "X214 ** [0 1]\n",
      "X215 ** [1 0]\n",
      "X216 ** [0 1]\n",
      "X217 ** [0 1]\n",
      "X218 ** [1 0]\n",
      "X219 ** [0 1]\n",
      "X220 ** [0 1]\n",
      "X221 ** [0 1]\n",
      "X222 ** [0 1]\n",
      "X223 ** [0 1]\n",
      "X224 ** [0 1]\n",
      "X225 ** [0 1]\n",
      "X226 ** [0 1]\n",
      "X227 ** [0 1]\n",
      "X228 ** [0 1]\n",
      "X229 ** [1 0]\n",
      "X230 ** [0 1]\n",
      "X231 ** [0 1]\n",
      "X232 ** [0 1]\n",
      "X234 ** [1 0]\n",
      "X237 ** [0 1]\n",
      "X238 ** [1 0]\n",
      "X239 ** [0 1]\n",
      "X240 ** [0 1]\n",
      "X241 ** [0 1]\n",
      "X242 ** [0 1]\n",
      "X243 ** [0 1]\n",
      "X244 ** [0 1]\n",
      "X245 ** [0 1]\n",
      "X246 ** [0 1]\n",
      "X247 ** [1 0]\n",
      "X248 ** [0 1]\n",
      "X249 ** [0 1]\n",
      "X250 ** [1 0]\n",
      "X251 ** [0 1]\n",
      "X252 ** [0 1]\n",
      "X253 ** [0 1]\n",
      "X254 ** [0 1]\n",
      "X255 ** [0 1]\n",
      "X256 ** [0 1]\n",
      "X257 ** [0]\n",
      "X258 ** [0]\n",
      "X259 ** [0]\n",
      "X260 ** [0 1]\n",
      "X261 ** [0 1]\n",
      "X262 ** [0 1]\n",
      "X263 ** [1 0]\n",
      "X264 ** [0 1]\n",
      "X265 ** [1 0]\n",
      "X266 ** [0 1]\n",
      "X267 ** [0 1]\n",
      "X269 ** [0 1]\n",
      "X270 ** [0 1]\n",
      "X271 ** [0 1]\n",
      "X272 ** [0 1]\n",
      "X273 ** [1 0]\n",
      "X274 ** [0 1]\n",
      "X275 ** [1 0]\n",
      "X276 ** [0 1]\n",
      "X277 ** [0 1]\n",
      "X278 ** [0 1]\n",
      "X279 ** [0 1]\n",
      "X280 ** [0 1]\n",
      "X281 ** [0 1]\n",
      "X282 ** [0 1]\n",
      "X283 ** [0 1]\n",
      "X284 ** [0 1]\n",
      "X285 ** [0 1]\n",
      "X286 ** [0 1]\n",
      "X287 ** [0 1]\n",
      "X288 ** [0 1]\n",
      "X291 ** [0 1]\n",
      "X292 ** [0 1]\n",
      "X294 ** [1 0]\n",
      "X295 ** [0]\n",
      "X296 ** [0]\n",
      "X298 ** [0 1]\n",
      "X299 ** [0 1]\n",
      "X300 ** [0 1]\n",
      "X301 ** [0 1]\n",
      "X302 ** [0 1]\n",
      "X304 ** [1 0]\n",
      "X305 ** [0 1]\n",
      "X306 ** [0 1]\n",
      "X307 ** [0 1]\n",
      "X308 ** [0 1]\n",
      "X309 ** [0 1]\n",
      "X310 ** [0 1]\n",
      "X311 ** [1 0]\n",
      "X312 ** [0 1]\n",
      "X313 ** [0 1]\n",
      "X314 ** [0 1]\n",
      "X315 ** [0 1]\n",
      "X316 ** [1 0]\n",
      "X317 ** [0 1]\n",
      "X318 ** [0 1]\n",
      "X319 ** [0 1]\n",
      "X320 ** [0 1]\n",
      "X321 ** [0 1]\n",
      "X322 ** [0 1]\n",
      "X323 ** [0 1]\n",
      "X324 ** [1 0]\n",
      "X325 ** [0 1]\n",
      "X326 ** [0 1]\n",
      "X327 ** [1 0]\n",
      "X328 ** [0 1]\n",
      "X329 ** [0 1]\n",
      "X331 ** [0 1]\n",
      "X332 ** [0 1]\n",
      "X333 ** [0 1]\n",
      "X334 ** [1 0]\n",
      "X335 ** [0 1]\n",
      "X336 ** [0 1]\n",
      "X337 ** [0 1]\n",
      "X338 ** [0 1]\n",
      "X340 ** [0 1]\n",
      "X341 ** [0 1]\n",
      "X342 ** [0 1]\n",
      "X343 ** [0 1]\n",
      "X344 ** [0 1]\n",
      "X345 ** [0 1]\n",
      "X346 ** [0 1]\n",
      "X348 ** [1 0]\n",
      "X349 ** [0 1]\n",
      "X350 ** [0 1]\n",
      "X351 ** [0 1]\n",
      "X352 ** [0 1]\n",
      "X353 ** [0 1]\n",
      "X354 ** [0 1]\n",
      "X355 ** [0 1]\n",
      "X356 ** [1 0]\n",
      "X357 ** [0 1]\n",
      "X358 ** [0 1]\n",
      "X359 ** [0 1]\n",
      "X360 ** [0 1]\n",
      "X361 ** [1 0]\n",
      "X362 ** [1 0]\n",
      "X363 ** [0 1]\n",
      "X364 ** [0 1]\n",
      "X365 ** [0 1]\n",
      "X366 ** [0 1]\n",
      "X367 ** [0 1]\n",
      "X368 ** [1 0]\n",
      "X369 ** [0]\n",
      "X370 ** [0 1]\n",
      "X371 ** [0 1]\n",
      "X372 ** [0 1]\n",
      "X373 ** [0 1]\n",
      "X374 ** [0 1]\n",
      "X375 ** [0 1]\n",
      "X376 ** [0 1]\n",
      "X377 ** [1 0]\n",
      "X378 ** [0 1]\n",
      "X379 ** [0 1]\n",
      "X380 ** [0 1]\n",
      "X382 ** [0 1]\n",
      "X383 ** [0 1]\n",
      "X384 ** [0 1]\n",
      "X385 ** [0 1]\n"
     ]
    }
   ],
   "source": [
    "# Checking the unique values for each column in train data\n",
    "for i in test_data.columns:\n",
    "    print(i,'**',test_data[i].unique())"
   ]
  },
  {
   "cell_type": "code",
   "execution_count": 25,
   "id": "1f4dda38",
   "metadata": {},
   "outputs": [],
   "source": [
    "#splitting the data for scaling\n",
    "xt=train_data.iloc[:,2:]\n",
    "tx=test_data"
   ]
  },
  {
   "cell_type": "code",
   "execution_count": 26,
   "id": "1e090c2d",
   "metadata": {},
   "outputs": [],
   "source": [
    "#Scaling the data \n",
    "from sklearn.preprocessing import StandardScaler\n",
    "sc=StandardScaler()\n",
    "x_training= sc.fit_transform(xt)\n",
    "x_testing=sc.fit_transform(tx)"
   ]
  },
  {
   "cell_type": "code",
   "execution_count": 27,
   "id": "b3974c45",
   "metadata": {},
   "outputs": [
    {
     "data": {
      "text/plain": [
       "(4128, 360)"
      ]
     },
     "execution_count": 27,
     "metadata": {},
     "output_type": "execute_result"
    }
   ],
   "source": [
    "x_training.shape"
   ]
  },
  {
   "cell_type": "code",
   "execution_count": 28,
   "id": "21288b71",
   "metadata": {},
   "outputs": [
    {
     "data": {
      "text/plain": [
       "(4128, 361)"
      ]
     },
     "execution_count": 28,
     "metadata": {},
     "output_type": "execute_result"
    }
   ],
   "source": [
    "x_testing.shape"
   ]
  },
  {
   "cell_type": "markdown",
   "id": "1406e701",
   "metadata": {},
   "source": [
    "# Perform dimensionality reduction."
   ]
  },
  {
   "cell_type": "code",
   "execution_count": 29,
   "id": "14555c31",
   "metadata": {},
   "outputs": [],
   "source": [
    "from sklearn.decomposition import PCA\n",
    "pca=PCA(n_components=0.95)\n",
    "pca_test=PCA(n_components=146)\n",
    "x_t=pca.fit_transform(x_training)\n",
    "t_x=pca_test.fit_transform(x_testing)"
   ]
  },
  {
   "cell_type": "code",
   "execution_count": 30,
   "id": "b2834d6f",
   "metadata": {},
   "outputs": [
    {
     "data": {
      "text/plain": [
       "(4128, 146)"
      ]
     },
     "execution_count": 30,
     "metadata": {},
     "output_type": "execute_result"
    }
   ],
   "source": [
    "#training dataset after scaling\n",
    "x_t.shape"
   ]
  },
  {
   "cell_type": "code",
   "execution_count": 31,
   "id": "0eb0a7a0",
   "metadata": {},
   "outputs": [
    {
     "data": {
      "text/plain": [
       "(4128, 146)"
      ]
     },
     "execution_count": 31,
     "metadata": {},
     "output_type": "execute_result"
    }
   ],
   "source": [
    "#testing dataset after scaling\n",
    "t_x.shape"
   ]
  },
  {
   "cell_type": "code",
   "execution_count": 32,
   "id": "c8981d0c",
   "metadata": {},
   "outputs": [],
   "source": [
    "#creating the dependent feature for our training dataset\n",
    "y=train_data.y"
   ]
  },
  {
   "cell_type": "code",
   "execution_count": 33,
   "id": "526451eb",
   "metadata": {},
   "outputs": [
    {
     "data": {
      "text/plain": [
       "(4128,)"
      ]
     },
     "execution_count": 33,
     "metadata": {},
     "output_type": "execute_result"
    }
   ],
   "source": [
    "y.shape"
   ]
  },
  {
   "cell_type": "markdown",
   "id": "5bfc0816",
   "metadata": {},
   "source": [
    "# Building XGBoost Regressor"
   ]
  },
  {
   "cell_type": "code",
   "execution_count": 34,
   "id": "175625eb",
   "metadata": {},
   "outputs": [],
   "source": [
    "#creating the instance and building the model\n",
    "regressor=XGBRegressor(n_estimators=500,learning_rate=0.3,max_depth=5,objective='reg:linear',eval_metric= 'rmse')"
   ]
  },
  {
   "cell_type": "code",
   "execution_count": 35,
   "id": "c3605222",
   "metadata": {},
   "outputs": [
    {
     "name": "stdout",
     "output_type": "stream",
     "text": [
      "(3096, 146)\n",
      "(1032, 146)\n",
      "(3096,)\n",
      "(1032,)\n"
     ]
    }
   ],
   "source": [
    "x_train,x_test,y_train,y_test=train_test_split(x_t,y,test_size=.25)\n",
    "print(x_train.shape)\n",
    "print(x_test.shape)\n",
    "print(y_train.shape)\n",
    "print(y_test.shape)"
   ]
  },
  {
   "cell_type": "code",
   "execution_count": 36,
   "id": "66e8ea2c",
   "metadata": {},
   "outputs": [
    {
     "name": "stdout",
     "output_type": "stream",
     "text": [
      "[19:13:23] WARNING: C:/buildkite-agent/builds/buildkite-windows-cpu-autoscaling-group-i-030221e36e1a46bfb-1/xgboost/xgboost-ci-windows/src/objective/regression_obj.cu:213: reg:linear is now deprecated in favor of reg:squarederror.\n"
     ]
    },
    {
     "data": {
      "text/plain": [
       "XGBRegressor(base_score=0.5, booster='gbtree', callbacks=None,\n",
       "             colsample_bylevel=1, colsample_bynode=1, colsample_bytree=1,\n",
       "             early_stopping_rounds=None, enable_categorical=False,\n",
       "             eval_metric='rmse', feature_types=None, gamma=0, gpu_id=-1,\n",
       "             grow_policy='depthwise', importance_type=None,\n",
       "             interaction_constraints='', learning_rate=0.3, max_bin=256,\n",
       "             max_cat_threshold=64, max_cat_to_onehot=4, max_delta_step=0,\n",
       "             max_depth=5, max_leaves=0, min_child_weight=1, missing=nan,\n",
       "             monotone_constraints='()', n_estimators=500, n_jobs=0,\n",
       "             num_parallel_tree=1, objective='reg:linear', predictor='auto', ...)"
      ]
     },
     "execution_count": 36,
     "metadata": {},
     "output_type": "execute_result"
    }
   ],
   "source": [
    "#fiting the model\n",
    "regressor.fit(x_train,y_train)"
   ]
  },
  {
   "cell_type": "code",
   "execution_count": 37,
   "id": "eb3c03e5",
   "metadata": {},
   "outputs": [
    {
     "data": {
      "text/plain": [
       "array([106.1823 ,  95.83613, 113.16558, ...,  89.58843,  95.34689,\n",
       "        90.77398], dtype=float32)"
      ]
     },
     "execution_count": 37,
     "metadata": {},
     "output_type": "execute_result"
    }
   ],
   "source": [
    "#predicting the model\n",
    "y_predict=regressor.predict(x_test)\n",
    "y_predict"
   ]
  },
  {
   "cell_type": "code",
   "execution_count": 38,
   "id": "047619c4",
   "metadata": {},
   "outputs": [
    {
     "data": {
      "text/plain": [
       "595     103.75\n",
       "2243     97.22\n",
       "4201    107.39\n",
       "3994    107.44\n",
       "817     100.59\n",
       "         ...  \n",
       "2481    128.87\n",
       "3764     98.44\n",
       "1738     92.94\n",
       "1870     93.64\n",
       "2354     88.18\n",
       "Name: y, Length: 1032, dtype: float64"
      ]
     },
     "execution_count": 38,
     "metadata": {},
     "output_type": "execute_result"
    }
   ],
   "source": [
    "#actual y values for our test dataset\n",
    "y_test"
   ]
  },
  {
   "cell_type": "code",
   "execution_count": 39,
   "id": "4144362c",
   "metadata": {},
   "outputs": [
    {
     "name": "stdout",
     "output_type": "stream",
     "text": [
      "RMSE =  7.931731907970579\n"
     ]
    }
   ],
   "source": [
    "#Evaluating the model\n",
    "from sklearn.metrics import r2_score, mean_squared_error\n",
    "from math import sqrt\n",
    "print('RMSE = ',sqrt(mean_squared_error(regressor.predict(x_test),y_test)))"
   ]
  },
  {
   "cell_type": "markdown",
   "id": "470b9ba4",
   "metadata": {},
   "source": [
    "# Predict test_data values using our regressor xgboost model"
   ]
  },
  {
   "cell_type": "code",
   "execution_count": 40,
   "id": "bd7a1581",
   "metadata": {},
   "outputs": [
    {
     "data": {
      "text/plain": [
       "array([ 96.12015 ,  82.027725,  80.86171 , ..., 104.02781 ,  99.692986,\n",
       "        97.126595], dtype=float32)"
      ]
     },
     "execution_count": 40,
     "metadata": {},
     "output_type": "execute_result"
    }
   ],
   "source": [
    "#prediction through our test data\n",
    "X_new=pd.DataFrame(t_x)\n",
    "regressor.predict(X_new)"
   ]
  },
  {
   "cell_type": "code",
   "execution_count": 41,
   "id": "53fd0045",
   "metadata": {},
   "outputs": [
    {
     "name": "stdout",
     "output_type": "stream",
     "text": [
      "RMSE =  13.22228551937848\n"
     ]
    }
   ],
   "source": [
    "#this is the RMSE score \n",
    "print('RMSE = ',sqrt(mean_squared_error(regressor.predict(X_new),y)))"
   ]
  },
  {
   "cell_type": "markdown",
   "id": "ee6315d6",
   "metadata": {},
   "source": [
    "# CONCLUSION"
   ]
  },
  {
   "cell_type": "markdown",
   "id": "3337a8f8",
   "metadata": {},
   "source": [
    "Insights-\n",
    "1.\tRemoving low variance features contributes in increasing model performance.\n",
    "2.\tNo null, unique and duplicates value found in the train and test dataset\n",
    "3.\tHyperparameter tuning prevents the overfitting of model.\n",
    "4.\tAdding PCA featurization (try to keep 95% important data) which helps in dimensionality reduction of models, which    contributes in decreasing Rmse.\n",
    "5.\tPredicted the test_data using XGBoost.\n"
   ]
  },
  {
   "cell_type": "code",
   "execution_count": null,
   "id": "106c6654",
   "metadata": {},
   "outputs": [],
   "source": []
  }
 ],
 "metadata": {
  "kernelspec": {
   "display_name": "Python 3 (ipykernel)",
   "language": "python",
   "name": "python3"
  },
  "language_info": {
   "codemirror_mode": {
    "name": "ipython",
    "version": 3
   },
   "file_extension": ".py",
   "mimetype": "text/x-python",
   "name": "python",
   "nbconvert_exporter": "python",
   "pygments_lexer": "ipython3",
   "version": "3.9.13"
  }
 },
 "nbformat": 4,
 "nbformat_minor": 5
}
